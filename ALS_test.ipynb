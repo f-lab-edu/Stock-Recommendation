{
 "cells": [
  {
   "cell_type": "markdown",
   "id": "ef1a2552",
   "metadata": {},
   "source": [
    "ALS를 이용한 추천"
   ]
  },
  {
   "cell_type": "code",
   "execution_count": null,
   "id": "78b6ff29",
   "metadata": {},
   "outputs": [],
   "source": [
    "import numpy as np\n",
    "import pandas as pd\n",
    "from scipy import sparse\n",
    "from data_manager import merge_data\n",
    "from metric_calculator import precision_recall_at_k\n",
    "from pathlib import Path\n",
    "import pandas as pd\n",
    "from scipy import sparse\n",
    "from implicit.als import AlternatingLeastSquares\n",
    "from implicit.evaluation import train_test_split\n",
    "from tqdm import tqdm\n",
    "import pickle\n",
    "\n",
    "%load_ext autoreload\n",
    "%autoreload 2"
   ]
  },
  {
   "cell_type": "code",
   "execution_count": null,
   "id": "9fe0f859",
   "metadata": {},
   "outputs": [],
   "source": [
    "# # 데이터 전처리 및 저장\n",
    "# DATA_DIR = \"2023q4_form13f/\"\n",
    "# merge_data(DATA_DIR)"
   ]
  },
  {
   "cell_type": "code",
   "execution_count": null,
   "id": "387665d4",
   "metadata": {},
   "outputs": [],
   "source": [
    "DATA_DIR = 'data/'\n",
    "\n",
    "df = pd.read_parquet(f\"{DATA_DIR}holdings_data.parquet\")\n",
    "\n",
    "# 인덱스 매핑\n",
    "cik2id  = {cik: i for i, cik in enumerate(df[\"CIK\"].unique())}\n",
    "cusip2id = {cusip: j for j, cusip in enumerate(df[\"CUSIP\"].unique())}\n",
    "\n",
    "# 기관을 사용자로 상품은 주식으로 취급\n",
    "df[\"user_id\"] = df[\"CIK\"].map(cik2id) \n",
    "df[\"item_id\"] = df[\"CUSIP\"].map(cusip2id) \n",
    "\n",
    "n_users = len(cik2id)\n",
    "n_items = len(cusip2id)\n",
    "\n",
    "rows = df[\"item_id\"].values\n",
    "cols = df[\"user_id\"].values\n",
    "data = df[\"hold\"].values\n",
    "\n",
    "item_user_mat = sparse.coo_matrix((data, (rows, cols)), \n",
    "                                  shape=(n_items, n_users)).tocsr()\n",
    "\n",
    "train_mat, test_mat = train_test_split(item_user_mat, train_percentage=0.8, random_state=42)\n",
    "\n",
    "als = AlternatingLeastSquares(\n",
    "    factors = 64,\n",
    "    regularization = 0.1,\n",
    "    iterations = 100,\n",
    "    random_state = 42,\n",
    "    use_gpu = False\n",
    ")\n",
    "\n",
    "als.fit(train_mat)\n",
    "\n",
    "with open(f\"{DATA_DIR}als_model.pkl\", \"wb\") as f:\n",
    "    pickle.dump({\"model\": als, \"cik2id\": cik2id, \"cusip2id\": cusip2id}, f, protocol=pickle.HIGHEST_PROTOCOL)"
   ]
  },
  {
   "cell_type": "code",
   "execution_count": null,
   "id": "41ec3e2c",
   "metadata": {},
   "outputs": [],
   "source": []
  }
 ],
 "metadata": {
  "kernelspec": {
   "display_name": "demo",
   "language": "python",
   "name": "python3"
  },
  "language_info": {
   "codemirror_mode": {
    "name": "ipython",
    "version": 3
   },
   "file_extension": ".py",
   "mimetype": "text/x-python",
   "name": "python",
   "nbconvert_exporter": "python",
   "pygments_lexer": "ipython3",
   "version": "3.10.14"
  }
 },
 "nbformat": 4,
 "nbformat_minor": 5
}
